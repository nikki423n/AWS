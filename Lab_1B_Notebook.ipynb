{
  "nbformat": 4,
  "nbformat_minor": 0,
  "metadata": {
    "colab": {
      "name": "Lab 1B Notebook.ipynb",
      "provenance": [],
      "collapsed_sections": [],
      "include_colab_link": true
    },
    "kernelspec": {
      "name": "python3",
      "display_name": "Python 3"
    }
  },
  "cells": [
    {
      "cell_type": "markdown",
      "metadata": {
        "id": "view-in-github",
        "colab_type": "text"
      },
      "source": [
        "<a href=\"https://colab.research.google.com/github/nikki423n/AWSProject/blob/master/Lab_1B_Notebook.ipynb\" target=\"_parent\"><img src=\"https://colab.research.google.com/assets/colab-badge.svg\" alt=\"Open In Colab\"/></a>"
      ]
    },
    {
      "cell_type": "markdown",
      "metadata": {
        "id": "-EM3FcfSiEUB"
      },
      "source": [
        "## Arrays and plotting"
      ]
    },
    {
      "cell_type": "code",
      "source": [
        "%matplotlib inline\n",
        "import numpy as np"
      ],
      "metadata": {
        "id": "aDGI4gd6Rk_k"
      },
      "execution_count": 11,
      "outputs": []
    },
    {
      "cell_type": "markdown",
      "metadata": {
        "id": "9org2Yb2iEQ_"
      },
      "source": [
        "**Problem 1**\n",
        "\n",
        "The following are the x and y coordinates for a number of objects. Run the cell below"
      ]
    },
    {
      "cell_type": "code",
      "metadata": {
        "id": "bJhGKo9niEO8",
        "colab": {
          "base_uri": "https://localhost:8080/"
        },
        "outputId": "5588499b-cad4-449e-82fd-c4a0af7c22ac"
      },
      "source": [
        "import numpy as np\n",
        "positions = np.array([[2., 4.],\n",
        "             [1., 3.],\n",
        "             [7., 2.],\n",
        "             [1., 8.],\n",
        "             [9., 2.]])\n",
        "# Separate out the x coordinates here\n",
        "xaxis = positions [:,0]\n",
        "# Separate out the y coordinates here\n",
        "yaxis = positions [:,1]\n",
        "# Calculate the distances from the origin\n",
        "distance = np.sqrt(xaxis**2+yaxis**2)\n",
        "# Print the distances\n",
        "print(distance)"
      ],
      "execution_count": 24,
      "outputs": [
        {
          "output_type": "stream",
          "name": "stdout",
          "text": [
            "[4.47213595 3.16227766 7.28010989 8.06225775 9.21954446]\n"
          ]
        }
      ]
    },
    {
      "cell_type": "markdown",
      "metadata": {
        "id": "3fEdqClTiEMj"
      },
      "source": [
        "Calculate the distances to each of the objects from the origin"
      ]
    },
    {
      "cell_type": "markdown",
      "metadata": {
        "id": "9Swy7Lbzh-EM"
      },
      "source": [
        "**Problem 2**"
      ]
    },
    {
      "cell_type": "markdown",
      "metadata": {
        "id": "5WCMjUHIh9eW"
      },
      "source": [
        "Read in the data that you downloaded from Slide 7 of lab 1B."
      ]
    },
    {
      "cell_type": "code",
      "source": [
        "# Run this cell to mount your Google Drive.\n",
        "from google.colab import drive\n",
        "drive.mount('drive')\n",
        "import numpy as np\n",
        "read_in_array = np.loadtxt('/content/drive/MyDrive/Colab Notebooks/practicelineardata.txt')\n",
        "print(read_in_array)\n"
      ],
      "metadata": {
        "id": "bnWf0PiIdYgx",
        "colab": {
          "base_uri": "https://localhost:8080/"
        },
        "outputId": "6bc35d03-86b4-4a36-fb9e-7f920caa1922"
      },
      "execution_count": 23,
      "outputs": [
        {
          "output_type": "stream",
          "name": "stdout",
          "text": [
            "Drive already mounted at drive; to attempt to forcibly remount, call drive.mount(\"drive\", force_remount=True).\n",
            "[[  0.  28.]\n",
            " [  1. -17.]\n",
            " [  2.  32.]\n",
            " [  3.  40.]\n",
            " [  4.  88.]\n",
            " [  5.  83.]\n",
            " [  6.  45.]\n",
            " [  7.  24.]\n",
            " [  8.  24.]\n",
            " [  9.  12.]\n",
            " [ 10. 105.]\n",
            " [ 11.  54.]\n",
            " [ 12.  89.]\n",
            " [ 13.  89.]\n",
            " [ 14.  75.]\n",
            " [ 15.  83.]\n",
            " [ 16.  30.]\n",
            " [ 17.  42.]\n",
            " [ 18.  44.]\n",
            " [ 19.  78.]\n",
            " [ 20.  84.]\n",
            " [ 21. 131.]\n",
            " [ 22. 111.]\n",
            " [ 23. 146.]\n",
            " [ 24. 152.]\n",
            " [ 25.  86.]\n",
            " [ 26.  91.]\n",
            " [ 27. 121.]\n",
            " [ 28.  99.]\n",
            " [ 29. 117.]\n",
            " [ 30. 122.]\n",
            " [ 31. 158.]\n",
            " [ 32. 167.]\n",
            " [ 33. 115.]\n",
            " [ 34. 159.]\n",
            " [ 35. 110.]\n",
            " [ 36. 146.]\n",
            " [ 37. 121.]\n",
            " [ 38. 133.]\n",
            " [ 39. 162.]\n",
            " [ 40. 173.]\n",
            " [ 41. 126.]\n",
            " [ 42. 200.]\n",
            " [ 43. 128.]\n",
            " [ 44. 171.]\n",
            " [ 45. 189.]\n",
            " [ 46. 193.]\n",
            " [ 47. 162.]\n",
            " [ 48. 162.]\n",
            " [ 49. 169.]\n",
            " [ 50. 191.]\n",
            " [ 51. 192.]\n",
            " [ 52. 200.]\n",
            " [ 53. 178.]\n",
            " [ 54. 227.]\n",
            " [ 55. 201.]\n",
            " [ 56. 193.]\n",
            " [ 57. 171.]\n",
            " [ 58. 194.]\n",
            " [ 59. 231.]\n",
            " [ 60. 260.]\n",
            " [ 61. 176.]\n",
            " [ 62. 207.]\n",
            " [ 63. 240.]\n",
            " [ 64. 253.]\n",
            " [ 65. 227.]\n",
            " [ 66. 210.]\n",
            " [ 67. 215.]\n",
            " [ 68. 205.]\n",
            " [ 69. 244.]\n",
            " [ 70. 260.]\n",
            " [ 71. 268.]\n",
            " [ 72. 261.]\n",
            " [ 73. 257.]\n",
            " [ 74. 215.]\n",
            " [ 75. 297.]\n",
            " [ 76. 242.]\n",
            " [ 77. 283.]\n",
            " [ 78. 219.]\n",
            " [ 79. 248.]\n",
            " [ 80. 304.]\n",
            " [ 81. 262.]\n",
            " [ 82. 298.]\n",
            " [ 83. 285.]\n",
            " [ 84. 320.]\n",
            " [ 85. 282.]\n",
            " [ 86. 304.]\n",
            " [ 87. 304.]\n",
            " [ 88. 244.]\n",
            " [ 89. 325.]\n",
            " [ 90. 274.]\n",
            " [ 91. 258.]\n",
            " [ 92. 269.]\n",
            " [ 93. 269.]\n",
            " [ 94. 346.]\n",
            " [ 95. 320.]\n",
            " [ 96. 333.]\n",
            " [ 97. 361.]\n",
            " [ 98. 300.]\n",
            " [ 99. 334.]]\n"
          ]
        }
      ]
    },
    {
      "cell_type": "code",
      "source": [
        "# Read in data, find the right source in your google drive\n",
        "# read_in_array = np.loadtxt('/content/gdrive/MyDrive/4AL Winter 2022/practicelineardata.txt') - for reference"
      ],
      "metadata": {
        "id": "dc0E3VXedaRr"
      },
      "execution_count": null,
      "outputs": []
    },
    {
      "cell_type": "markdown",
      "source": [
        "Remember from that if you have a two dimensional array, you can separate the colums or rows out using the : symbol, which indicates to grab all of the elements from a column. Separate out the first one and the second one. "
      ],
      "metadata": {
        "id": "YOZoZaFDdgpW"
      }
    },
    {
      "cell_type": "code",
      "source": [
        "# The first column is the x axis, second is y axis\n",
        "# Take all of the elements in 0th column\n",
        "\n",
        "x_axis = read_in_array[:,0] #elements in 0th column\n",
        "# Take all of the elements in the 1st column\n",
        "y_axis = read_in_array[:,1] #elements in 1st column\n"
      ],
      "metadata": {
        "id": "SrQCslPTdgJh"
      },
      "execution_count": 13,
      "outputs": []
    },
    {
      "cell_type": "markdown",
      "source": [
        "Plot a scatter plot (plt.scatter). Provide axes labels - get creative with your axes labels."
      ],
      "metadata": {
        "id": "fFTqOTrbdlIO"
      }
    },
    {
      "cell_type": "code",
      "source": [
        "import matplotlib.pyplot as plt\n",
        "\n",
        "# x-array\n",
        "x_axis = read_in_array[:,0] #elements in 0th column\n",
        "\n",
        "# y-array\n",
        "y_axis = read_in_array[:,1] #elements in 1st column\n",
        "\n",
        "# Make the scatter plot \n",
        "plt.scatter(x_axis, y_axis)\n",
        "\n",
        "# Label the x axis\n",
        "plt.xlabel('Time (s)')\n",
        "\n",
        "# Label the y axis\n",
        "\n",
        "plt.ylabel('Position (m)')\n",
        "\n",
        "# Give the plots a title\n",
        "plt.title('Displacement vs. Time Plot')\n"
      ],
      "metadata": {
        "id": "6t6DMDFmdov-",
        "colab": {
          "base_uri": "https://localhost:8080/",
          "height": 312
        },
        "outputId": "fab4296e-0fb5-4368-eb05-96c4a34ba3f8"
      },
      "execution_count": 22,
      "outputs": [
        {
          "output_type": "execute_result",
          "data": {
            "text/plain": [
              "Text(0.5, 1.0, 'Displacement vs. Time Plot')"
            ]
          },
          "metadata": {},
          "execution_count": 22
        },
        {
          "output_type": "display_data",
          "data": {
            "text/plain": [
              "<Figure size 432x288 with 1 Axes>"
            ],
            "image/png": "[encoded data removed]"
          },
          "metadata": {
            "needs_background": "light"
          }
        }
      ]
    },
    {
      "cell_type": "markdown",
      "source": [
        "Use polyfit to generate the best fit line and plot it along with everything you plotted in the previous cell. Use a legend to differentiate between the data and the polyfit curve."
      ],
      "metadata": {
        "id": "IpYNCxvcdqhq"
      }
    },
    {
      "cell_type": "code",
      "source": [
        "# Copy and paste everything from the previous cell under this line\n",
        "import matplotlib.pyplot as plt\n",
        "x_axis = read_in_array[:,0] #elements in 0th column\n",
        "y_axis = read_in_array[:,1] #elements in 1st column\n",
        "#scatter plot\n",
        "plt.scatter(x_axis, y_axis)\n",
        "\n",
        "plt.xlabel('Time (s)')\n",
        "plt.ylabel('Position (m)')\n",
        "\n",
        "\n",
        "# # np.polyfit() requires at least 3 arguments or inputs\n",
        "# The x-axis data, the y-axis data and the degree of the polynomial that we are trying to fit - save the results in an array\n",
        "# The zeroth element is the slope and first element is the intercept\n",
        "coeff_linear = np.polyfit(x_axis, y_axis, 1)\n",
        "# plt.plot() generates a connected line - plot the best fit line\n",
        "plt.plot(x_axis, coeff_linear[0]*x_axis+coeff_linear[1])\n",
        "\n",
        "\n",
        "# Create labels in both the plt.scatter() and plt.plot() to apply for the legend\n",
        "plt.scatter(x_axis,y_axis, label = 'Data')\n",
        "plt.plot(x_axis, coeff_linear[0]*x_axis+coeff_linear[1], label = 'Model')\n",
        "plt.title('Best Fit Model')\n",
        "# Remember to use plt.legend()\n",
        "plt.legend()\n",
        "\n",
        "\n"
      ],
      "metadata": {
        "id": "OMZFCYXKdtvE",
        "colab": {
          "base_uri": "https://localhost:8080/",
          "height": 312
        },
        "outputId": "1edddcac-6b2b-4353-9da4-5f5dc4367c04"
      },
      "execution_count": 21,
      "outputs": [
        {
          "output_type": "execute_result",
          "data": {
            "text/plain": [
              "<matplotlib.legend.Legend at 0x7f8345a73410>"
            ]
          },
          "metadata": {},
          "execution_count": 21
        },
        {
          "output_type": "display_data",
          "data": {
            "text/plain": [
              "<Figure size 432x288 with 1 Axes>"
            ],
            "image/png": "[encoded data removed]"
          },
          "metadata": {
            "needs_background": "light"
          }
        }
      ]
    },
    {
      "cell_type": "markdown",
      "metadata": {
        "id": "a7GQ8xJnh_3T"
      },
      "source": [
        "**Problem 3**"
      ]
    },
    {
      "cell_type": "markdown",
      "metadata": {
        "id": "exoP6NCqiD6b"
      },
      "source": [
        "The position of an object in motion can be given by $x=x_0 + ut + \\frac{1}{2}at^{2}$. Plot the position of the object (position on y axis and time on x axis) starting from t=0 to t=5 seconds for the follow case. (Use np.linspace to create maybe 100 points for time on the x-axis)\n",
        "\n",
        "Object falls freely from a height of 500 metres. Assume acceleration due to gravity as 9.8 $m/s^2$."
      ]
    },
    {
      "cell_type": "code",
      "metadata": {
        "id": "FFJbJ141iD2A",
        "colab": {
          "base_uri": "https://localhost:8080/",
          "height": 607
        },
        "outputId": "4c86843c-1185-49a4-adb5-dfdcd48b2048"
      },
      "source": [
        "# x-array\n",
        "x_axis1= np.linspace(0.0,5.0,100)\n",
        "print(x_axis)\n",
        "\n",
        "# y-array\n",
        "y_axis1 = 500 - 0.5*9.8*x_axis1**2\n",
        "\n",
        "# Make the continuous plot\n",
        "plt.scatter(x_axis1,y_axis1)\n",
        "\n",
        "\n",
        "# Label the x axis\n",
        "plt.xlabel('Time (s)')\n",
        "# Label the y axis\n",
        "plt.ylabel('position (m)')\n",
        "# Give the plot a title\n",
        "plt.title('Particle Motion Plot')\n"
      ],
      "execution_count": 20,
      "outputs": [
        {
          "output_type": "stream",
          "name": "stdout",
          "text": [
            "[0.         0.05050505 0.1010101  0.15151515 0.2020202  0.25252525\n",
            " 0.3030303  0.35353535 0.4040404  0.45454545 0.50505051 0.55555556\n",
            " 0.60606061 0.65656566 0.70707071 0.75757576 0.80808081 0.85858586\n",
            " 0.90909091 0.95959596 1.01010101 1.06060606 1.11111111 1.16161616\n",
            " 1.21212121 1.26262626 1.31313131 1.36363636 1.41414141 1.46464646\n",
            " 1.51515152 1.56565657 1.61616162 1.66666667 1.71717172 1.76767677\n",
            " 1.81818182 1.86868687 1.91919192 1.96969697 2.02020202 2.07070707\n",
            " 2.12121212 2.17171717 2.22222222 2.27272727 2.32323232 2.37373737\n",
            " 2.42424242 2.47474747 2.52525253 2.57575758 2.62626263 2.67676768\n",
            " 2.72727273 2.77777778 2.82828283 2.87878788 2.92929293 2.97979798\n",
            " 3.03030303 3.08080808 3.13131313 3.18181818 3.23232323 3.28282828\n",
            " 3.33333333 3.38383838 3.43434343 3.48484848 3.53535354 3.58585859\n",
            " 3.63636364 3.68686869 3.73737374 3.78787879 3.83838384 3.88888889\n",
            " 3.93939394 3.98989899 4.04040404 4.09090909 4.14141414 4.19191919\n",
            " 4.24242424 4.29292929 4.34343434 4.39393939 4.44444444 4.49494949\n",
            " 4.54545455 4.5959596  4.64646465 4.6969697  4.74747475 4.7979798\n",
            " 4.84848485 4.8989899  4.94949495 5.        ]\n"
          ]
        },
        {
          "output_type": "execute_result",
          "data": {
            "text/plain": [
              "Text(0.5, 1.0, 'Particle Motion Plot')"
            ]
          },
          "metadata": {},
          "execution_count": 20
        },
        {
          "output_type": "display_data",
          "data": {
            "text/plain": [
              "<Figure size 432x288 with 1 Axes>"
            ],
            "image/png": "[encoded data removed]"
          },
          "metadata": {
            "needs_background": "light"
          }
        }
      ]
    },
    {
      "cell_type": "markdown",
      "metadata": {
        "id": "1xBxsBzwZ-jd"
      },
      "source": [
        "*Developed by Pauline Arriaga* \n",
        "\n",
        "*rev. 2.0 S.Gowda 1-06-2022*\n",
        "\n",
        "*© Regents of the University of California*\n"
      ]
    }
  ]
}